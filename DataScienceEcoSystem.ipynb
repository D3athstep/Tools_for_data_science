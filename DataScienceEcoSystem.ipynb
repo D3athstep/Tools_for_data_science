{
 "cells": [
  {
   "cell_type": "markdown",
   "id": "c09b3ade",
   "metadata": {},
   "source": [
    "# Data Science Tool and Ecosysyem"
   ]
  },
  {
   "cell_type": "markdown",
   "id": "c43403b2",
   "metadata": {},
   "source": [
    "### In this notebook , Data Science Tools and Echo systems are summarized ."
   ]
  },
  {
   "cell_type": "markdown",
   "id": "b8eecf21",
   "metadata": {},
   "source": [
    "### Some of the popular langugages Data Scientist use are:\n",
    "1. Python\n",
    "2. R\n",
    "3. Scala\n",
    "4. SQL"
   ]
  },
  {
   "cell_type": "markdown",
   "id": "56694d87",
   "metadata": {},
   "source": [
    "#### Some of the comanly used libraries used by Data Scientist include:\n",
    "1. NumPY\n",
    "2. Pandas\n",
    "3. Matplotlib\n",
    "4. SciPY"
   ]
  },
  {
   "cell_type": "markdown",
   "id": "84ec79b9",
   "metadata": {},
   "source": [
    "| Data Scicene tools|\n",
    "|-------------|\n",
    "| R studio |\n",
    "| Apache spark|\n",
    "| Apache Hadoop|"
   ]
  },
  {
   "cell_type": "markdown",
   "id": "3cd3f781",
   "metadata": {},
   "source": [
    "### Below are a few examples of evaluating arithmetic expressions in Python.\n"
   ]
  },
  {
   "cell_type": "code",
   "execution_count": 2,
   "id": "6820ad86",
   "metadata": {},
   "outputs": [
    {
     "data": {
      "text/plain": [
       "17"
      ]
     },
     "execution_count": 2,
     "metadata": {},
     "output_type": "execute_result"
    }
   ],
   "source": [
    "# this expression multiply then add integers\n",
    "(3*4)+5"
   ]
  },
  {
   "cell_type": "code",
   "execution_count": 3,
   "id": "0d30358a",
   "metadata": {},
   "outputs": [
    {
     "name": "stdout",
     "output_type": "stream",
     "text": [
      "3.3333333333333335\n"
     ]
    }
   ],
   "source": [
    "# This will convert 200 minutes into hours by dividing by 60\n",
    "minutes = 200\n",
    "hours = minutes/60\n",
    "print(hours)"
   ]
  },
  {
   "cell_type": "markdown",
   "id": "07ff7ed0",
   "metadata": {},
   "source": [
    "## Author\n",
    "\n",
    "Ibrahim Khalilullah"
   ]
  },
  {
   "cell_type": "code",
   "execution_count": null,
   "id": "fe92711f",
   "metadata": {},
   "outputs": [],
   "source": []
  }
 ],
 "metadata": {
  "kernelspec": {
   "display_name": "Python 3 (ipykernel)",
   "language": "python",
   "name": "python3"
  },
  "language_info": {
   "codemirror_mode": {
    "name": "ipython",
    "version": 3
   },
   "file_extension": ".py",
   "mimetype": "text/x-python",
   "name": "python",
   "nbconvert_exporter": "python",
   "pygments_lexer": "ipython3",
   "version": "3.10.9"
  }
 },
 "nbformat": 4,
 "nbformat_minor": 5
}
